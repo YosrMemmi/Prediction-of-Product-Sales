{
  "nbformat": 4,
  "nbformat_minor": 0,
  "metadata": {
    "colab": {
      "provenance": [],
      "authorship_tag": "ABX9TyPxGBSwaNppUB38wiITkba/",
      "include_colab_link": true
    },
    "kernelspec": {
      "name": "python3",
      "display_name": "Python 3"
    },
    "language_info": {
      "name": "python"
    }
  },
  "cells": [
    {
      "cell_type": "markdown",
      "metadata": {
        "id": "view-in-github",
        "colab_type": "text"
      },
      "source": [
        "<a href=\"https://colab.research.google.com/github/YosrMemmi/Prediction-of-Product-Sales/blob/main/Prediction_of_Product_Sales.ipynb\" target=\"_parent\"><img src=\"https://colab.research.google.com/assets/colab-badge.svg\" alt=\"Open In Colab\"/></a>"
      ]
    },
    {
      "cell_type": "markdown",
      "source": [
        "#Project: Prediction of Product Sales\n",
        "- Author: Yosr Memmi\n",
        "\n",
        "\n",
        "\n"
      ],
      "metadata": {
        "id": "jLJNDkFRUjKU"
      }
    },
    {
      "cell_type": "markdown",
      "source": [
        "##Project Overview"
      ],
      "metadata": {
        "id": "_Qqgy1k7VopB"
      }
    },
    {
      "cell_type": "code",
      "source": [],
      "metadata": {
        "id": "vxSwAGjRVkTt"
      },
      "execution_count": null,
      "outputs": []
    },
    {
      "cell_type": "markdown",
      "source": [
        "##Load and Inspect Data\n"
      ],
      "metadata": {
        "id": "gSdgqgy1Vqrb"
      }
    },
    {
      "cell_type": "code",
      "source": [],
      "metadata": {
        "id": "K5LRcMIMVtmS"
      },
      "execution_count": null,
      "outputs": []
    },
    {
      "cell_type": "markdown",
      "source": [
        "##Clean Data\n"
      ],
      "metadata": {
        "id": "NatmHZasVukX"
      }
    },
    {
      "cell_type": "code",
      "source": [],
      "metadata": {
        "id": "pUavnjIlVxDV"
      },
      "execution_count": null,
      "outputs": []
    },
    {
      "cell_type": "markdown",
      "source": [
        "##Exploratory Data Analysis"
      ],
      "metadata": {
        "id": "mRzpDFTbVx6R"
      }
    },
    {
      "cell_type": "code",
      "source": [],
      "metadata": {
        "id": "-F1Hl5wdV3wS"
      },
      "execution_count": null,
      "outputs": []
    },
    {
      "cell_type": "markdown",
      "source": [
        "##Feature Inspection"
      ],
      "metadata": {
        "id": "u29wbnLsV4TD"
      }
    },
    {
      "cell_type": "code",
      "source": [],
      "metadata": {
        "id": "LzXHOvndV77D"
      },
      "execution_count": null,
      "outputs": []
    }
  ]
}